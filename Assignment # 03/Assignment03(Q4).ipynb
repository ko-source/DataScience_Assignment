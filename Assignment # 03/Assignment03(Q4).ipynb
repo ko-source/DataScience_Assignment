{
  "nbformat": 4,
  "nbformat_minor": 0,
  "metadata": {
    "colab": {
      "provenance": []
    },
    "kernelspec": {
      "name": "python3",
      "display_name": "Python 3"
    },
    "language_info": {
      "name": "python"
    }
  },
  "cells": [
    {
      "cell_type": "code",
      "source": [
        "# 24 November 2023\n",
        "# CSC461 – Assignment3 – Machine Learning\n",
        "# Komal Khizar\n",
        "# FA20-BSE-096\n",
        "# This Python script trains a Gaussian Naïve Bayes classifier on a gender prediction dataset,\n",
        "#  evaluates its performance on the last 10 instances, and reports the accuracy, precision, and recall.\n",
        "# The dataset is preprocessed for categorical encoding and feature scaling, and the model's efficacy is assessed on newly added test data.\n",
        "import pandas as pd\n",
        "from sklearn.naive_bayes import GaussianNB\n",
        "from sklearn.metrics import accuracy_score, precision_score, recall_score\n",
        "from sklearn.preprocessing import LabelEncoder, StandardScaler"
      ],
      "metadata": {
        "id": "6cBKu_0V0arC"
      },
      "execution_count": null,
      "outputs": []
    },
    {
      "cell_type": "code",
      "source": [
        "# Load the dataset\n",
        "file_path = 'gender-prediction.csv'\n",
        "data = pd.read_csv(file_path, delimiter='\\t')\n",
        "\n",
        "# Display column names\n",
        "print(\"Column names in the dataset:\", data.columns.tolist())"
      ],
      "metadata": {
        "id": "8GMP1ET7zxKN"
      },
      "execution_count": null,
      "outputs": []
    },
    {
      "cell_type": "code",
      "source": [
        "# Load the dataset\n",
        "data = pd.read_csv('gender-prediction.csv', delimiter='\\t')"
      ],
      "metadata": {
        "id": "xOvhUFtI0hg0"
      },
      "execution_count": null,
      "outputs": []
    },
    {
      "cell_type": "code",
      "source": [
        "# Separate features and target\n",
        "X = data.drop('gender', axis=1)\n",
        "y = data['gender']"
      ],
      "metadata": {
        "id": "GlBxSL9E0kPv"
      },
      "execution_count": null,
      "outputs": []
    },
    {
      "cell_type": "code",
      "source": [
        "# Encode categorical variables\n",
        "label_encoders = {}\n",
        "for col in ['beard', 'hair_length', 'scarf', 'eye_color']:\n",
        "    le = LabelEncoder()\n",
        "    X[col] = le.fit_transform(X[col])\n"
      ],
      "metadata": {
        "id": "wFz520ky0mtk"
      },
      "execution_count": null,
      "outputs": []
    },
    {
      "cell_type": "code",
      "source": [
        "# Scale the features\n",
        "scaler = StandardScaler()\n",
        "X_scaled = scaler.fit_transform(X)"
      ],
      "metadata": {
        "id": "HuaB6Ve-0pMy"
      },
      "execution_count": null,
      "outputs": []
    },
    {
      "cell_type": "code",
      "source": [
        "# Splitting the dataset into training data (all instances except last 10) and test data (last 10 instances)\n",
        "X_train = X_scaled[:-10]\n",
        "y_train = y.iloc[:-10]\n",
        "X_test = X_scaled[-10:]\n",
        "y_test = y.iloc[-10:]"
      ],
      "metadata": {
        "id": "8kDAOCPQ0ro4"
      },
      "execution_count": null,
      "outputs": []
    },
    {
      "cell_type": "code",
      "source": [
        "# Gaussian Naïve Bayes Classifier\n",
        "gnb_classifier = GaussianNB()\n",
        "\n",
        "# Training the classifier\n",
        "gnb_classifier.fit(X_train, y_train)\n",
        "\n",
        "# Making predictions on the test data\n",
        "y_pred = gnb_classifier.predict(X_test)"
      ],
      "metadata": {
        "id": "B68BUuvS0wxo"
      },
      "execution_count": null,
      "outputs": []
    },
    {
      "cell_type": "code",
      "source": [
        "# Converting string labels to numeric if necessary for accuracy, precision, and recall calculation\n",
        "if y_test.dtype == 'object':\n",
        "    le = LabelEncoder()\n",
        "    y_test_numeric = le.fit_transform(y_test)\n",
        "    y_pred_numeric = le.transform(y_pred)\n",
        "else:\n",
        "    y_test_numeric = y_test\n",
        "    y_pred_numeric = y_pred"
      ],
      "metadata": {
        "id": "u6GEgQcp0zk6"
      },
      "execution_count": null,
      "outputs": []
    },
    {
      "cell_type": "code",
      "source": [
        "# Evaluating the classifier\n",
        "accuracy = accuracy_score(y_test_numeric, y_pred_numeric)\n",
        "precision = precision_score(y_test_numeric, y_pred_numeric, average='weighted')\n",
        "recall = recall_score(y_test_numeric, y_pred_numeric, average='weighted')\n",
        "\n",
        "print(\"Accuracy:\", accuracy)\n",
        "print(\"Precision:\", precision)\n",
        "print(\"Recall:\", recall)"
      ],
      "metadata": {
        "colab": {
          "base_uri": "https://localhost:8080/"
        },
        "id": "ofFOTj8f017-",
        "outputId": "b970db8a-1f8a-4720-abbe-42c5deae72e1"
      },
      "execution_count": null,
      "outputs": [
        {
          "output_type": "stream",
          "name": "stdout",
          "text": [
            "Accuracy: 1.0\n",
            "Precision: 1.0\n",
            "Recall: 1.0\n"
          ]
        }
      ]
    }
  ]
}
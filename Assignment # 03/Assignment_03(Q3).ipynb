{
  "nbformat": 4,
  "nbformat_minor": 0,
  "metadata": {
    "colab": {
      "provenance": []
    },
    "kernelspec": {
      "name": "python3",
      "display_name": "Python 3"
    },
    "language_info": {
      "name": "python"
    }
  },
  "cells": [
    {
      "cell_type": "code",
      "execution_count": 3,
      "metadata": {
        "colab": {
          "base_uri": "https://localhost:8080/"
        },
        "id": "9CZNvPPNR04S",
        "outputId": "b2799e83-66f4-4566-c3a3-640a22778021"
      },
      "outputs": [
        {
          "output_type": "stream",
          "name": "stdout",
          "text": [
            "Average F1 Score with Monte Carlo Cross-Validation: 0.9742129630644399\n",
            "Average F1 Score with Leave-P-Out Cross-Validation: 0.9766666666666666\n"
          ]
        }
      ],
      "source": [
        "# 24 November 2023\n",
        "# CSC461 – Assignment3 – Machine Learning\n",
        "# Komal Khizar\n",
        "# FA20-BSE-096\n",
        "# This task entails applying a Random Forest classifier to a gender prediction dataset,\n",
        "# using two cross-validation techniques: Monte Carlo cross-validation and Leave P-Out cross-validation.\n",
        "#  The focus is to evaluate and report the F1 scores for each method,\n",
        "#  with freedom to select specific parameters for the cross-validation strategies.\n",
        "import pandas as pd\n",
        "from sklearn.ensemble import RandomForestClassifier\n",
        "from sklearn.model_selection import cross_val_score, ShuffleSplit, LeavePOut\n",
        "from sklearn.metrics import make_scorer, f1_score\n",
        "from sklearn.preprocessing import LabelEncoder, StandardScaler\n",
        "\n",
        "# Load the dataset\n",
        "data = pd.read_csv('gender-prediction.csv')\n",
        "\n",
        "# Preprocess the data: Encode categorical variables and scale data\n",
        "label_encoders = {}\n",
        "for column in ['beard', 'hair_length', 'scarf', 'eye_color']:\n",
        "    le = LabelEncoder()\n",
        "    data[column] = le.fit_transform(data[column])\n",
        "\n",
        "X = data.drop('gender', axis=1)\n",
        "y = data['gender']\n",
        "\n",
        "scaler = StandardScaler()\n",
        "X_scaled = scaler.fit_transform(X)\n",
        "\n",
        "# Random Forest Classifier\n",
        "rf_classifier = RandomForestClassifier()\n",
        "\n",
        "# F1 scorer for multi-class classification\n",
        "f1_scorer = make_scorer(f1_score, average='weighted')\n",
        "\n",
        "# Monte Carlo Cross-Validation\n",
        "mccv = ShuffleSplit(n_splits=100, test_size=0.3, random_state=42)\n",
        "mccv_scores = cross_val_score(rf_classifier, X_scaled, y, cv=mccv, scoring=f1_scorer)\n",
        "\n",
        "# Leave-P-Out Cross-Validation (Reduced P and Limited Iterations)\n",
        "p = 2  # Smaller value of P\n",
        "lpo = LeavePOut(p)\n",
        "max_iterations = 100  # Limit the number of iterations for large datasets\n",
        "lpo_scores = []\n",
        "iteration = 0\n",
        "\n",
        "for train_index, test_index in lpo.split(X_scaled):\n",
        "    if iteration >= max_iterations:\n",
        "        break\n",
        "    X_train, X_test = X_scaled[train_index], X_scaled[test_index]\n",
        "    y_train, y_test = y.iloc[train_index], y.iloc[test_index]\n",
        "\n",
        "    rf_classifier.fit(X_train, y_train)\n",
        "    y_pred = rf_classifier.predict(X_test)\n",
        "    lpo_scores.append(f1_score(y_test, y_pred, average='weighted'))\n",
        "\n",
        "    iteration += 1\n",
        "\n",
        "# Average F1 scores\n",
        "mccv_avg_f1 = mccv_scores.mean()\n",
        "lpo_avg_f1 = sum(lpo_scores) / len(lpo_scores)\n",
        "\n",
        "print(\"Average F1 Score with Monte Carlo Cross-Validation:\", mccv_avg_f1)\n",
        "print(\"Average F1 Score with Leave-P-Out Cross-Validation:\", lpo_avg_f1)\n"
      ]
    }
  ]
}
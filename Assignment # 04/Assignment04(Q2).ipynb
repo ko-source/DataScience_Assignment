{
  "nbformat": 4,
  "nbformat_minor": 0,
  "metadata": {
    "colab": {
      "provenance": []
    },
    "kernelspec": {
      "name": "python3",
      "display_name": "Python 3"
    },
    "language_info": {
      "name": "python"
    }
  },
  "cells": [
    {
      "cell_type": "code",
      "source": [
        "# 10 December 2023\n",
        "# CSC461 – Assignment4 – NLP\n",
        "# Komal Khizar\n",
        "# FA20-BSE-096\n",
        "# Q2. [CLO-2]\n",
        "# This task involves calculating the similarity between three sentences (S1, S2, S3)\n",
        "# using three different distance metrics: Cosine, Manhattan, and Euclidean distances.\n",
        "# These metrics will be computed on the vectorized representations of the sentences,\n",
        "#  providing a quantitative measure of how similar or different the sentences\n",
        "#  are from each other in terms of their word usage and structure.\n",
        "# Each metric offers a different perspective on similarity, with cosine focusing on\n",
        "#  the angle between vectors, and Manhattan and Euclidean measuring direct distances in the vector space.\n",
        "\n",
        "from sklearn.feature_extraction.text import CountVectorizer\n",
        "from sklearn.metrics.pairwise import cosine_similarity, manhattan_distances, euclidean_distances\n"
      ],
      "metadata": {
        "id": "_d6luGWKzRRt"
      },
      "execution_count": 28,
      "outputs": []
    },
    {
      "cell_type": "code",
      "source": [
        "# Sentences\n",
        "S1 = \"data science is one of the most important courses in computer science\"\n",
        "S2 = \"this is one of the best data science courses\"\n",
        "S3 = \"the data scientists perform data analysis\""
      ],
      "metadata": {
        "id": "cV13yppA1UpA"
      },
      "execution_count": 29,
      "outputs": []
    },
    {
      "cell_type": "code",
      "source": [
        "# Vectorize the sentences\n",
        "vectorizer = CountVectorizer()\n",
        "X = vectorizer.fit_transform([S1, S2, S3])"
      ],
      "metadata": {
        "id": "5tJPYOYN1W8O"
      },
      "execution_count": 30,
      "outputs": []
    },
    {
      "cell_type": "code",
      "source": [
        "# Convert to dense array for distance calculations\n",
        "X_dense = X.toarray()"
      ],
      "metadata": {
        "id": "lHYx0wsz1Y4O"
      },
      "execution_count": 31,
      "outputs": []
    },
    {
      "cell_type": "code",
      "source": [
        "# Compute cosine similarity\n",
        "cosine_sim = cosine_similarity(X_dense)"
      ],
      "metadata": {
        "id": "33AIvzbO1a8M"
      },
      "execution_count": 32,
      "outputs": []
    },
    {
      "cell_type": "code",
      "source": [
        "# Compute Manhattan distance\n",
        "manhattan_dist = manhattan_distances(X_dense)"
      ],
      "metadata": {
        "id": "JE38lMjr1ctQ"
      },
      "execution_count": 33,
      "outputs": []
    },
    {
      "cell_type": "code",
      "source": [
        "# Compute Euclidean distance\n",
        "euclidean_dist = euclidean_distances(X_dense)"
      ],
      "metadata": {
        "id": "3fPuqgRx1evr"
      },
      "execution_count": 34,
      "outputs": []
    },
    {
      "cell_type": "code",
      "source": [
        "# Display the results\n",
        "print(\"Cosine Similarity:\\n\", cosine_sim)\n",
        "print(\"\\nManhattan Distance:\\n\", manhattan_dist)\n",
        "print(\"\\nEuclidean Distance:\\n\", euclidean_dist)"
      ],
      "metadata": {
        "colab": {
          "base_uri": "https://localhost:8080/"
        },
        "id": "_4bgCnie1g1Q",
        "outputId": "a0a35aa9-98f5-43d8-87ba-e38d1109be81"
      },
      "execution_count": 35,
      "outputs": [
        {
          "output_type": "stream",
          "name": "stdout",
          "text": [
            "Cosine Similarity:\n",
            " [[1.         0.71269665 0.28347335]\n",
            " [0.71269665 1.         0.35355339]\n",
            " [0.28347335 0.35355339 1.        ]]\n",
            "\n",
            "Manhattan Distance:\n",
            " [[ 0.  7. 14.]\n",
            " [ 7.  0. 11.]\n",
            " [14. 11.  0.]]\n",
            "\n",
            "Euclidean Distance:\n",
            " [[0.         2.64575131 4.        ]\n",
            " [2.64575131 0.         3.31662479]\n",
            " [4.         3.31662479 0.        ]]\n"
          ]
        }
      ]
    }
  ]
}
{
  "nbformat": 4,
  "nbformat_minor": 0,
  "metadata": {
    "colab": {
      "provenance": []
    },
    "kernelspec": {
      "name": "python3",
      "display_name": "Python 3"
    },
    "language_info": {
      "name": "python"
    }
  },
  "cells": [
    {
      "cell_type": "code",
      "execution_count": 26,
      "metadata": {
        "id": "ViGoZhryMJRu"
      },
      "outputs": [],
      "source": [
        "# 9/27/2023\n",
        "# CSC461 – Assignment2 – Regular Expressions\n",
        "#Komal Khizar\n",
        "# FA20-BSE-096\n",
        "# I have done this task using different regular expressions.\n",
        "import re\n",
        "#  Open the file for reading\n",
        "with open('example-text.txt', 'r') as file:\n",
        "    # Read the contents of the file\n",
        "    file_contents = file.read()"
      ]
    },
    {
      "cell_type": "code",
      "source": [
        "#1. Extract list of all words.\n",
        "print(\"\\n\\nAll the list of words\\n\\n\")\n",
        "words = file_contents.split()\n",
        "print(words)\n"
      ],
      "metadata": {
        "id": "wOgefQ1LuKNN"
      },
      "execution_count": null,
      "outputs": []
    },
    {
      "cell_type": "code",
      "source": [
        "# 2. Extract list of all words starting with a capital letter.\n",
        "print(\"\\n\\nAll the list of with words that are starting with capital letter\\n\\n\")\n",
        "capital_words = re.findall(r'\\b[A-Z][A-Za-z]*\\b',file_contents)\n",
        "print(capital_words)"
      ],
      "metadata": {
        "id": "N8fq1hGmuuNN"
      },
      "execution_count": null,
      "outputs": []
    },
    {
      "cell_type": "code",
      "source": [
        "#3. Extract list of all words of length 5.\n",
        "print(\"\\n\\nAll the list of words that have 5 letters\\n\\n\")\n",
        "words_of_5letters = re.findall(r'\\b[A-Za-z]{5}\\b',file_contents)\n",
        "print(words_of_5letters)"
      ],
      "metadata": {
        "id": "abSQsyYpuPhT"
      },
      "execution_count": null,
      "outputs": []
    },
    {
      "cell_type": "code",
      "source": [
        "# 4. Extract list of all words inside double quotes.\n",
        "print(\"\\n\\nAll the list of words that are inside double qoutes\\n\\n\")\n",
        "quotes = re.findall(r'\"[^\\\"]*\\\"',file_contents)\n",
        "print(quotes)"
      ],
      "metadata": {
        "id": "LCl9buXAueCc"
      },
      "execution_count": null,
      "outputs": []
    },
    {
      "cell_type": "code",
      "source": [
        "# 5. Extract list of all vowels.\n",
        "print(\"\\n\\nList of all the vowels\\n\\n\")\n",
        "vowels = re.findall(r'[AEIOUaeiou]',file_contents)\n",
        "print(vowels)"
      ],
      "metadata": {
        "id": "iseOVW7RvABq"
      },
      "execution_count": null,
      "outputs": []
    },
    {
      "cell_type": "code",
      "source": [
        "# 6. Extract list of 3 letter words ending with letter ‘e’.\n",
        "print(\"\\n\\nAll the list of 3 letter words ending with letter ‘e’ \\n\\n\")\n",
        "wordsOfLength3 = re.findall(r'\\b[A-Za-z]{2}e\\b',file_contents)\n",
        "print(wordsOfLength3)"
      ],
      "metadata": {
        "id": "ibZB76LTw8Bk"
      },
      "execution_count": null,
      "outputs": []
    },
    {
      "cell_type": "code",
      "source": [
        "# 7. Extract list of all words starting and ending with letter ‘b’.\n",
        "print(\"\\n\\nAll the list of all words starting and ending with letter ‘b’. \\n\\n\")\n",
        "wordsOfStartEndWithB = re.findall(r'b[A-Za-z]*b',file_contents)\n",
        "print(wordsOfStartEndWithB)"
      ],
      "metadata": {
        "id": "Rl2empTZ0W3q"
      },
      "execution_count": null,
      "outputs": []
    },
    {
      "cell_type": "code",
      "source": [
        "# 8. Remove all the punctuation marks from the text.\n",
        "print(\"\\n\\nAll the text without punctuation marks \\n\\n\")\n",
        "text = re.sub(r'[^\\w\\s]', '',file_contents)\n",
        "print(text)"
      ],
      "metadata": {
        "id": "1I93i8pC3GBj"
      },
      "execution_count": null,
      "outputs": []
    },
    {
      "cell_type": "code",
      "source": [
        "# 9. Replace all words ending ‘n't’ to their full form ‘not’.\n",
        "print(\"\\n\\nAll the replaced text without punctuation marks \\n\\n\")\n",
        "replacedText = re.sub(r'n\\'t', 'not',file_contents)\n",
        "print(replacedText)"
      ],
      "metadata": {
        "id": "22HLu-1c41mB"
      },
      "execution_count": null,
      "outputs": []
    },
    {
      "cell_type": "code",
      "source": [
        "# 10. Replace all the new lines with a single space.\n",
        "\n",
        "print(\"\\n\\nAll the replaced text without punctuation marks \\n\\n\")\n",
        "replacedTextWithoutLines = re.sub(r'\\n+', ' ',file_contents)\n",
        "print(replacedTextWithoutLines)"
      ],
      "metadata": {
        "id": "qJMxPe0B6eeR"
      },
      "execution_count": null,
      "outputs": []
    }
  ]
}
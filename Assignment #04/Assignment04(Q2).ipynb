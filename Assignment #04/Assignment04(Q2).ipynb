{
  "nbformat": 4,
  "nbformat_minor": 0,
  "metadata": {
    "colab": {
      "provenance": []
    },
    "kernelspec": {
      "name": "python3",
      "display_name": "Python 3"
    },
    "language_info": {
      "name": "python"
    }
  },
  "cells": [
    {
      "cell_type": "code",
      "source": [
        "# 10 December 2023\n",
        "# CSC461 – Assignment4 – NLP\n",
        "# Komal Khizar\n",
        "# FA20-BSE-096\n",
        "# Q2. [CLO-2]\n",
        "# This task involves calculating the similarity between three sentences (S1, S2, S3)\n",
        "# using three different distance metrics: Cosine, Manhattan, and Euclidean distances.\n",
        "# These metrics will be computed on the vectorized representations of the sentences,\n",
        "#  providing a quantitative measure of how similar or different the sentences\n",
        "#  are from each other in terms of their word usage and structure.\n",
        "# Each metric offers a different perspective on similarity, with cosine focusing on\n",
        "#  the angle between vectors, and Manhattan and Euclidean measuring direct distances in the vector space.\n",
        "\n",
        "from sklearn.feature_extraction.text import CountVectorizer\n",
        "from sklearn.metrics.pairwise import cosine_similarity, manhattan_distances, euclidean_distances\n"
      ],
      "metadata": {
        "id": "_d6luGWKzRRt"
      },
      "execution_count": null,
      "outputs": []
    },
    {
      "cell_type": "code",
      "source": [
        "# Sentences\n",
        "S1 = \"data science is one of the most important courses in computer science\"\n",
        "S2 = \"this is one of the best data science courses\"\n",
        "S3 = \"the data scientists perform data analysis\""
      ],
      "metadata": {
        "id": "cV13yppA1UpA"
      },
      "execution_count": null,
      "outputs": []
    },
    {
      "cell_type": "code",
      "source": [
        "# Vectorize the sentences\n",
        "vectorizer = CountVectorizer()\n",
        "X = vectorizer.fit_transform([S1, S2, S3])"
      ],
      "metadata": {
        "id": "5tJPYOYN1W8O"
      },
      "execution_count": null,
      "outputs": []
    },
    {
      "cell_type": "code",
      "source": [
        "# Convert to dense array for distance calculations\n",
        "X_dense = X.toarray()"
      ],
      "metadata": {
        "id": "lHYx0wsz1Y4O"
      },
      "execution_count": null,
      "outputs": []
    },
    {
      "cell_type": "code",
      "source": [
        "# Compute cosine similarity\n",
        "cosine_sim = cosine_similarity(X_dense)"
      ],
      "metadata": {
        "id": "33AIvzbO1a8M"
      },
      "execution_count": null,
      "outputs": []
    },
    {
      "cell_type": "code",
      "source": [
        "# Compute Manhattan distance\n",
        "manhattan_dist = manhattan_distances(X_dense)"
      ],
      "metadata": {
        "id": "JE38lMjr1ctQ"
      },
      "execution_count": null,
      "outputs": []
    },
    {
      "cell_type": "code",
      "source": [
        "# Compute Euclidean distance\n",
        "euclidean_dist = euclidean_distances(X_dense)"
      ],
      "metadata": {
        "id": "3fPuqgRx1evr"
      },
      "execution_count": null,
      "outputs": []
    },
    {
      "cell_type": "code",
      "source": [
        "# Display the results\n",
        "print(\"Cosine Similarity:\\n\", cosine_sim)\n",
        "print(\"\\nManhattan Distance:\\n\", manhattan_dist)\n",
        "print(\"\\nEuclidean Distance:\\n\", euclidean_dist)"
      ],
      "metadata": {
        "colab": {
          "base_uri": "https://localhost:8080/"
        },
        "id": "_4bgCnie1g1Q",
        "outputId": "a0a35aa9-98f5-43d8-87ba-e38d1109be81"
      },
      "execution_count": null,
      "outputs": [
        {
          "output_type": "stream",
          "name": "stdout",
          "text": [
            "Cosine Similarity:\n",
            " [[1.         0.71269665 0.28347335]\n",
            " [0.71269665 1.         0.35355339]\n",
            " [0.28347335 0.35355339 1.        ]]\n",
            "\n",
            "Manhattan Distance:\n",
            " [[ 0.  7. 14.]\n",
            " [ 7.  0. 11.]\n",
            " [14. 11.  0.]]\n",
            "\n",
            "Euclidean Distance:\n",
            " [[0.         2.64575131 4.        ]\n",
            " [2.64575131 0.         3.31662479]\n",
            " [4.         3.31662479 0.        ]]\n"
          ]
        }
      ]
    },
    {
      "cell_type": "code",
      "source": [
        "import numpy as np\n",
        "\n",
        "# TF values for each sentence\n",
        "tf_values = np.array([\n",
        "    [0.000000, 0.000000, 0.083333, 0.083333, 0.083333, 0.083333, 0.083333, 0.083333, 0.083333, 0.083333, 0.083333, 0.000000, 0.166667, 0.000000, 0.083333, 0.000000],\n",
        "    [0.000000, 0.111111, 0.000000, 0.111111, 0.111111, 0.000000, 0.000000, 0.111111, 0.000000, 0.111111, 0.111111, 0.000000, 0.111111, 0.000000, 0.111111, 0.111111],\n",
        "    [0.166667, 0.000000, 0.000000, 0.000000, 0.333333, 0.000000, 0.000000, 0.000000, 0.000000, 0.000000, 0.000000, 0.166667, 0.000000, 0.166667, 0.166667, 0.000000]\n",
        "])\n",
        "\n",
        "# Redefine the cosine similarity function\n",
        "def cosine_similarity(vector1, vector2):\n",
        "    dot_product = np.dot(vector1, vector2)\n",
        "    magnitude1 = np.linalg.norm(vector1)\n",
        "    magnitude2 = np.linalg.norm(vector2)\n",
        "    return dot_product / (magnitude1 * magnitude2)\n",
        "\n",
        "# Compute cosine similarities\n",
        "cosine_similarity_s1_s2 = cosine_similarity(tf_values[0], tf_values[1])\n",
        "cosine_similarity_s1_s3 = cosine_similarity(tf_values[0], tf_values[2])\n",
        "cosine_similarity_s2_s3 = cosine_similarity(tf_values[1], tf_values[2])\n",
        "\n",
        "cosine_similarity_s1_s2, cosine_similarity_s1_s3, cosine_similarity_s2_s3\n",
        "\n"
      ],
      "metadata": {
        "colab": {
          "base_uri": "https://localhost:8080/"
        },
        "id": "S4HVLSf71cXL",
        "outputId": "c4218238-9d09-40eb-af73-ef0de4952bf9"
      },
      "execution_count": 1,
      "outputs": [
        {
          "output_type": "execute_result",
          "data": {
            "text/plain": [
              "(0.7126964923761216, 0.2834727270637635, 0.35355321381626914)"
            ]
          },
          "metadata": {},
          "execution_count": 1
        }
      ]
    },
    {
      "cell_type": "code",
      "source": [
        "# Function to calculate Manhattan distance\n",
        "def manhattan_distance(vector1, vector2):\n",
        "    return np.sum(np.abs(vector1 - vector2))\n",
        "\n",
        "# Compute Manhattan distances\n",
        "manhattan_distance_s1_s2 = manhattan_distance(tf_values[0], tf_values[1])\n",
        "manhattan_distance_s1_s3 = manhattan_distance(tf_values[0], tf_values[2])\n",
        "manhattan_distance_s2_s3 = manhattan_distance(tf_values[1], tf_values[2])\n",
        "\n",
        "manhattan_distance_s1_s2, manhattan_distance_s1_s3, manhattan_distance_s2_s3\n",
        "\n"
      ],
      "metadata": {
        "colab": {
          "base_uri": "https://localhost:8080/"
        },
        "id": "xheurdmy6vD7",
        "outputId": "4c7a0313-48e0-4af1-983a-f8cc3f8ce326"
      },
      "execution_count": 2,
      "outputs": [
        {
          "output_type": "execute_result",
          "data": {
            "text/plain": [
              "(0.777778, 1.666666, 1.5555560000000002)"
            ]
          },
          "metadata": {},
          "execution_count": 2
        }
      ]
    },
    {
      "cell_type": "code",
      "source": [
        "# Function to calculate Euclidean distance\n",
        "def euclidean_distance(vector1, vector2):\n",
        "    return np.linalg.norm(vector1 - vector2)\n",
        "\n",
        "# Compute Euclidean distances\n",
        "euclidean_distance_s1_s2 = euclidean_distance(tf_values[0], tf_values[1])\n",
        "euclidean_distance_s1_s3 = euclidean_distance(tf_values[0], tf_values[2])\n",
        "euclidean_distance_s2_s3 = euclidean_distance(tf_values[1], tf_values[2])\n",
        "\n",
        "euclidean_distance_s1_s2, euclidean_distance_s1_s3, euclidean_distance_s2_s3\n",
        "\n"
      ],
      "metadata": {
        "colab": {
          "base_uri": "https://localhost:8080/"
        },
        "id": "vw-VSEQE8uDz",
        "outputId": "1fe141a2-7e5a-4a81-8941-f7e6cab53ce4"
      },
      "execution_count": 3,
      "outputs": [
        {
          "output_type": "execute_result",
          "data": {
            "text/plain": [
              "(0.24532638879256347, 0.485912772237981, 0.47140463864285426)"
            ]
          },
          "metadata": {},
          "execution_count": 3
        }
      ]
    },
    {
      "cell_type": "code",
      "source": [
        " # TF values for each sentence\n",
        "tfidf_values = np.array([\n",
        "    [0, 0, 0.03976, 0.014674, 0, 0.03976, 0.03976, 0.014674, 0.03976, 0.014674, 0.014674, 0, 0.029349, 0, 0, 0],\n",
        "[0, 0.053013, 0, 0.019566, 0, 0, 0, 0.019566, 0, 0.019566, 0.019566, 0, 0.019566, 0, 0, 0.053013],\n",
        " [0.07952, 0, 0, 0, 0, 0, 0, 0, 0, 0, 0, 0.07952, 0, 0.07952, 0, 0]\n",
        "])\n",
        "# Redefine the cosine similarity function\n",
        "def cosine_similarity(vector1, vector2):\n",
        "    dot_product = np.dot(vector1, vector2)\n",
        "    magnitude1 = np.linalg.norm(vector1)\n",
        "    magnitude2 = np.linalg.norm(vector2)\n",
        "    return dot_product / (magnitude1 * magnitude2)\n",
        "\n",
        "# Compute cosine similarities\n",
        "cosine_similarity_s1_s2 = cosine_similarity(tfidf_values[0], tfidf_values[1])\n",
        "cosine_similarity_s1_s3 = cosine_similarity(tfidf_values[0], tfidf_values[2])\n",
        "cosine_similarity_s2_s3 = cosine_similarity(tfidf_values[1], tfidf_values[2])\n",
        "\n",
        "cosine_similarity_s1_s2, cosine_similarity_s1_s3, cosine_similarity_s2_s3"
      ],
      "metadata": {
        "colab": {
          "base_uri": "https://localhost:8080/"
        },
        "id": "m8E006NjHYKG",
        "outputId": "c02dc08f-e9b4-4d68-a132-93b65ef221f8"
      },
      "execution_count": 8,
      "outputs": [
        {
          "output_type": "execute_result",
          "data": {
            "text/plain": [
              "(0.22124596584079695, 0.0, 0.0)"
            ]
          },
          "metadata": {},
          "execution_count": 8
        }
      ]
    },
    {
      "cell_type": "code",
      "source": [
        "# Function to calculate Manhattan distance\n",
        "def manhattan_distance(vector1, vector2):\n",
        "    return np.sum(np.abs(vector1 - vector2))\n",
        "\n",
        "# Compute Manhattan distances\n",
        "manhattan_distance_s1_s2 = manhattan_distance(tfidf_values[0], tfidf_values[1])\n",
        "manhattan_distance_s1_s3 = manhattan_distance(tfidf_values[0], tfidf_values[2])\n",
        "manhattan_distance_s2_s3 = manhattan_distance(tfidf_values[1], tfidf_values[2])\n",
        "\n",
        "manhattan_distance_s1_s2, manhattan_distance_s1_s3, manhattan_distance_s2_s3\n",
        "\n"
      ],
      "metadata": {
        "colab": {
          "base_uri": "https://localhost:8080/"
        },
        "id": "2yhPTwm-BB2U",
        "outputId": "35af3c21-2607-4797-ff97-102cc9b1a286"
      },
      "execution_count": 9,
      "outputs": [
        {
          "output_type": "execute_result",
          "data": {
            "text/plain": [
              "(0.29441700000000004, 0.485645, 0.442416)"
            ]
          },
          "metadata": {},
          "execution_count": 9
        }
      ]
    },
    {
      "cell_type": "code",
      "source": [
        "# Function to calculate Euclidean distance\n",
        "def euclidean_distance(vector1, vector2):\n",
        "    return np.linalg.norm(vector1 - vector2)\n",
        "\n",
        "# Compute Euclidean distances\n",
        "euclidean_distance_s1_s2 = euclidean_distance(tfidf_values[0], tfidf_values[1])\n",
        "euclidean_distance_s1_s3 = euclidean_distance(tfidf_values[0], tfidf_values[2])\n",
        "euclidean_distance_s2_s3 = euclidean_distance(tfidf_values[1], tfidf_values[2])\n",
        "\n",
        "euclidean_distance_s1_s2, euclidean_distance_s1_s3, euclidean_distance_s2_s3\n",
        "\n"
      ],
      "metadata": {
        "colab": {
          "base_uri": "https://localhost:8080/"
        },
        "id": "R64MF3JnCKqi",
        "outputId": "54af52b6-1847-481c-c702-6ec1de91a805"
      },
      "execution_count": 10,
      "outputs": [
        {
          "output_type": "execute_result",
          "data": {
            "text/plain": [
              "(0.11016179230114222, 0.16436663440309288, 0.16280414404430865)"
            ]
          },
          "metadata": {},
          "execution_count": 10
        }
      ]
    }
  ]
}